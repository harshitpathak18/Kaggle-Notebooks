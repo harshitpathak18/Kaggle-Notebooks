{
 "cells": [
  {
   "cell_type": "markdown",
   "id": "05b85103",
   "metadata": {
    "_cell_guid": "88e8ec6d-76e5-5f12-d9a6-2b40017a2b99",
    "papermill": {
     "duration": 0.004991,
     "end_time": "2024-09-16T11:25:31.838653",
     "exception": false,
     "start_time": "2024-09-16T11:25:31.833662",
     "status": "completed"
    },
    "tags": []
   },
   "source": [
    "# Iris Species Classification"
   ]
  },
  {
   "cell_type": "code",
   "execution_count": 1,
   "id": "25769681",
   "metadata": {
    "_cell_guid": "6443d6db-6440-5d93-d37c-4fde4c428ca5",
    "execution": {
     "iopub.execute_input": "2024-09-16T11:25:31.849513Z",
     "iopub.status.busy": "2024-09-16T11:25:31.849071Z",
     "iopub.status.idle": "2024-09-16T11:25:34.017038Z",
     "shell.execute_reply": "2024-09-16T11:25:34.015831Z"
    },
    "papermill": {
     "duration": 2.176401,
     "end_time": "2024-09-16T11:25:34.019807",
     "exception": false,
     "start_time": "2024-09-16T11:25:31.843406",
     "status": "completed"
    },
    "tags": []
   },
   "outputs": [],
   "source": [
    "# Import libraries\n",
    "import warnings\n",
    "import pandas as pd\n",
    "from sklearn.svm import SVC\n",
    "from sklearn.preprocessing import StandardScaler\n",
    "from sklearn.neighbors import KNeighborsClassifier\n",
    "from sklearn.model_selection import train_test_split\n",
    "from sklearn.linear_model import LogisticRegression\n",
    "\n",
    "warnings.filterwarnings(\"ignore\")"
   ]
  },
  {
   "cell_type": "code",
   "execution_count": 2,
   "id": "8b0c7ec1",
   "metadata": {
    "execution": {
     "iopub.execute_input": "2024-09-16T11:25:34.030502Z",
     "iopub.status.busy": "2024-09-16T11:25:34.029932Z",
     "iopub.status.idle": "2024-09-16T11:25:34.074091Z",
     "shell.execute_reply": "2024-09-16T11:25:34.072578Z"
    },
    "papermill": {
     "duration": 0.052502,
     "end_time": "2024-09-16T11:25:34.076763",
     "exception": false,
     "start_time": "2024-09-16T11:25:34.024261",
     "status": "completed"
    },
    "tags": []
   },
   "outputs": [
    {
     "data": {
      "text/html": [
       "<div>\n",
       "<style scoped>\n",
       "    .dataframe tbody tr th:only-of-type {\n",
       "        vertical-align: middle;\n",
       "    }\n",
       "\n",
       "    .dataframe tbody tr th {\n",
       "        vertical-align: top;\n",
       "    }\n",
       "\n",
       "    .dataframe thead th {\n",
       "        text-align: right;\n",
       "    }\n",
       "</style>\n",
       "<table border=\"1\" class=\"dataframe\">\n",
       "  <thead>\n",
       "    <tr style=\"text-align: right;\">\n",
       "      <th></th>\n",
       "      <th>Id</th>\n",
       "      <th>SepalLengthCm</th>\n",
       "      <th>SepalWidthCm</th>\n",
       "      <th>PetalLengthCm</th>\n",
       "      <th>PetalWidthCm</th>\n",
       "      <th>Species</th>\n",
       "    </tr>\n",
       "  </thead>\n",
       "  <tbody>\n",
       "    <tr>\n",
       "      <th>0</th>\n",
       "      <td>1</td>\n",
       "      <td>5.1</td>\n",
       "      <td>3.5</td>\n",
       "      <td>1.4</td>\n",
       "      <td>0.2</td>\n",
       "      <td>Iris-setosa</td>\n",
       "    </tr>\n",
       "    <tr>\n",
       "      <th>1</th>\n",
       "      <td>2</td>\n",
       "      <td>4.9</td>\n",
       "      <td>3.0</td>\n",
       "      <td>1.4</td>\n",
       "      <td>0.2</td>\n",
       "      <td>Iris-setosa</td>\n",
       "    </tr>\n",
       "    <tr>\n",
       "      <th>2</th>\n",
       "      <td>3</td>\n",
       "      <td>4.7</td>\n",
       "      <td>3.2</td>\n",
       "      <td>1.3</td>\n",
       "      <td>0.2</td>\n",
       "      <td>Iris-setosa</td>\n",
       "    </tr>\n",
       "    <tr>\n",
       "      <th>3</th>\n",
       "      <td>4</td>\n",
       "      <td>4.6</td>\n",
       "      <td>3.1</td>\n",
       "      <td>1.5</td>\n",
       "      <td>0.2</td>\n",
       "      <td>Iris-setosa</td>\n",
       "    </tr>\n",
       "    <tr>\n",
       "      <th>4</th>\n",
       "      <td>5</td>\n",
       "      <td>5.0</td>\n",
       "      <td>3.6</td>\n",
       "      <td>1.4</td>\n",
       "      <td>0.2</td>\n",
       "      <td>Iris-setosa</td>\n",
       "    </tr>\n",
       "  </tbody>\n",
       "</table>\n",
       "</div>"
      ],
      "text/plain": [
       "   Id  SepalLengthCm  SepalWidthCm  PetalLengthCm  PetalWidthCm      Species\n",
       "0   1            5.1           3.5            1.4           0.2  Iris-setosa\n",
       "1   2            4.9           3.0            1.4           0.2  Iris-setosa\n",
       "2   3            4.7           3.2            1.3           0.2  Iris-setosa\n",
       "3   4            4.6           3.1            1.5           0.2  Iris-setosa\n",
       "4   5            5.0           3.6            1.4           0.2  Iris-setosa"
      ]
     },
     "execution_count": 2,
     "metadata": {},
     "output_type": "execute_result"
    }
   ],
   "source": [
    "# Loading dataset\n",
    "iris_df = pd.read_csv(\"/kaggle/input/iris/Iris.csv\")\n",
    "iris_df.head()"
   ]
  },
  {
   "cell_type": "code",
   "execution_count": 3,
   "id": "e4f0da9c",
   "metadata": {
    "execution": {
     "iopub.execute_input": "2024-09-16T11:25:34.087939Z",
     "iopub.status.busy": "2024-09-16T11:25:34.087540Z",
     "iopub.status.idle": "2024-09-16T11:25:34.131146Z",
     "shell.execute_reply": "2024-09-16T11:25:34.130008Z"
    },
    "papermill": {
     "duration": 0.052321,
     "end_time": "2024-09-16T11:25:34.133836",
     "exception": false,
     "start_time": "2024-09-16T11:25:34.081515",
     "status": "completed"
    },
    "tags": []
   },
   "outputs": [
    {
     "name": "stdout",
     "output_type": "stream",
     "text": [
      "Shape: (150, 6)\n",
      "\n",
      "Features: ['Id', 'SepalLengthCm', 'SepalWidthCm', 'PetalLengthCm', 'PetalWidthCm', 'Species']\n",
      "\n",
      "Information:\n",
      "<class 'pandas.core.frame.DataFrame'>\n",
      "RangeIndex: 150 entries, 0 to 149\n",
      "Data columns (total 6 columns):\n",
      " #   Column         Non-Null Count  Dtype  \n",
      "---  ------         --------------  -----  \n",
      " 0   Id             150 non-null    int64  \n",
      " 1   SepalLengthCm  150 non-null    float64\n",
      " 2   SepalWidthCm   150 non-null    float64\n",
      " 3   PetalLengthCm  150 non-null    float64\n",
      " 4   PetalWidthCm   150 non-null    float64\n",
      " 5   Species        150 non-null    object \n",
      "dtypes: float64(4), int64(1), object(1)\n",
      "memory usage: 7.2+ KB\n",
      "None\n",
      "\n",
      " Description:\n",
      "               Id  SepalLengthCm  SepalWidthCm  PetalLengthCm  PetalWidthCm\n",
      "count  150.000000     150.000000    150.000000     150.000000    150.000000\n",
      "mean    75.500000       5.843333      3.054000       3.758667      1.198667\n",
      "std     43.445368       0.828066      0.433594       1.764420      0.763161\n",
      "min      1.000000       4.300000      2.000000       1.000000      0.100000\n",
      "25%     38.250000       5.100000      2.800000       1.600000      0.300000\n",
      "50%     75.500000       5.800000      3.000000       4.350000      1.300000\n",
      "75%    112.750000       6.400000      3.300000       5.100000      1.800000\n",
      "max    150.000000       7.900000      4.400000       6.900000      2.500000\n"
     ]
    }
   ],
   "source": [
    "# Everything about the dataset\n",
    "print(f\"Shape: {iris_df.shape}\")\n",
    "print(f\"\\nFeatures: {iris_df.columns.to_list()}\")\n",
    "print(\"\\nInformation:\")\n",
    "print(iris_df.info())\n",
    "print(\"\\n Description:\")\n",
    "print(iris_df.describe())"
   ]
  },
  {
   "cell_type": "code",
   "execution_count": 4,
   "id": "2f0d7128",
   "metadata": {
    "execution": {
     "iopub.execute_input": "2024-09-16T11:25:34.145196Z",
     "iopub.status.busy": "2024-09-16T11:25:34.144763Z",
     "iopub.status.idle": "2024-09-16T11:25:34.154065Z",
     "shell.execute_reply": "2024-09-16T11:25:34.152803Z"
    },
    "papermill": {
     "duration": 0.017954,
     "end_time": "2024-09-16T11:25:34.156675",
     "exception": false,
     "start_time": "2024-09-16T11:25:34.138721",
     "status": "completed"
    },
    "tags": []
   },
   "outputs": [
    {
     "data": {
      "text/plain": [
       "Species\n",
       "Iris-setosa        50\n",
       "Iris-versicolor    50\n",
       "Iris-virginica     50\n",
       "Name: count, dtype: int64"
      ]
     },
     "execution_count": 4,
     "metadata": {},
     "output_type": "execute_result"
    }
   ],
   "source": [
    "# Checking dependent feature\n",
    "iris_df['Species'].value_counts()"
   ]
  },
  {
   "cell_type": "code",
   "execution_count": 5,
   "id": "62c74b90",
   "metadata": {
    "execution": {
     "iopub.execute_input": "2024-09-16T11:25:34.168446Z",
     "iopub.status.busy": "2024-09-16T11:25:34.168039Z",
     "iopub.status.idle": "2024-09-16T11:25:34.174660Z",
     "shell.execute_reply": "2024-09-16T11:25:34.173309Z"
    },
    "papermill": {
     "duration": 0.015557,
     "end_time": "2024-09-16T11:25:34.177231",
     "exception": false,
     "start_time": "2024-09-16T11:25:34.161674",
     "status": "completed"
    },
    "tags": []
   },
   "outputs": [],
   "source": [
    "# Encoding dependent feature\n",
    "iris_df['Species'] = iris_df['Species'].map({\"Iris-setosa\": 0, \"Iris-versicolor\":1, \"Iris-virginica\":2})"
   ]
  },
  {
   "cell_type": "code",
   "execution_count": 6,
   "id": "0a25075a",
   "metadata": {
    "execution": {
     "iopub.execute_input": "2024-09-16T11:25:34.189124Z",
     "iopub.status.busy": "2024-09-16T11:25:34.188704Z",
     "iopub.status.idle": "2024-09-16T11:25:34.196980Z",
     "shell.execute_reply": "2024-09-16T11:25:34.195699Z"
    },
    "papermill": {
     "duration": 0.017235,
     "end_time": "2024-09-16T11:25:34.199560",
     "exception": false,
     "start_time": "2024-09-16T11:25:34.182325",
     "status": "completed"
    },
    "tags": []
   },
   "outputs": [],
   "source": [
    "# Splitting data into independent & dependent\n",
    "X = iris_df.drop(columns=['Id','Species'])\n",
    "y = iris_df['Species']"
   ]
  },
  {
   "cell_type": "code",
   "execution_count": 7,
   "id": "057fad49",
   "metadata": {
    "_cell_guid": "8393598e-1344-0e22-43fc-fdda6c75c08a",
    "execution": {
     "iopub.execute_input": "2024-09-16T11:25:34.211812Z",
     "iopub.status.busy": "2024-09-16T11:25:34.211404Z",
     "iopub.status.idle": "2024-09-16T11:25:34.221964Z",
     "shell.execute_reply": "2024-09-16T11:25:34.220384Z"
    },
    "papermill": {
     "duration": 0.019959,
     "end_time": "2024-09-16T11:25:34.224974",
     "exception": false,
     "start_time": "2024-09-16T11:25:34.205015",
     "status": "completed"
    },
    "tags": []
   },
   "outputs": [
    {
     "name": "stdout",
     "output_type": "stream",
     "text": [
      "Training Samples - 112\n",
      "Testing Samples - 38\n"
     ]
    }
   ],
   "source": [
    "# Splitting dataset into training & testing\n",
    "X_train, X_test, y_train, y_test = train_test_split(X, y, test_size=0.25, random_state=42)\n",
    "\n",
    "print(f\"Training Samples - {X_train.shape[0]}\")\n",
    "print(f\"Testing Samples - {X_test.shape[0]}\")"
   ]
  },
  {
   "cell_type": "code",
   "execution_count": 8,
   "id": "e16a9171",
   "metadata": {
    "_cell_guid": "5867b347-4875-1e21-4313-633873a56915",
    "execution": {
     "iopub.execute_input": "2024-09-16T11:25:34.237042Z",
     "iopub.status.busy": "2024-09-16T11:25:34.236128Z",
     "iopub.status.idle": "2024-09-16T11:25:34.254634Z",
     "shell.execute_reply": "2024-09-16T11:25:34.253493Z"
    },
    "papermill": {
     "duration": 0.027013,
     "end_time": "2024-09-16T11:25:34.256924",
     "exception": false,
     "start_time": "2024-09-16T11:25:34.229911",
     "status": "completed"
    },
    "tags": []
   },
   "outputs": [
    {
     "data": {
      "text/html": [
       "<div>\n",
       "<style scoped>\n",
       "    .dataframe tbody tr th:only-of-type {\n",
       "        vertical-align: middle;\n",
       "    }\n",
       "\n",
       "    .dataframe tbody tr th {\n",
       "        vertical-align: top;\n",
       "    }\n",
       "\n",
       "    .dataframe thead th {\n",
       "        text-align: right;\n",
       "    }\n",
       "</style>\n",
       "<table border=\"1\" class=\"dataframe\">\n",
       "  <thead>\n",
       "    <tr style=\"text-align: right;\">\n",
       "      <th></th>\n",
       "      <th>SepalLengthCm</th>\n",
       "      <th>SepalWidthCm</th>\n",
       "      <th>PetalLengthCm</th>\n",
       "      <th>PetalWidthCm</th>\n",
       "    </tr>\n",
       "  </thead>\n",
       "  <tbody>\n",
       "    <tr>\n",
       "      <th>0</th>\n",
       "      <td>-1.018271</td>\n",
       "      <td>1.306365</td>\n",
       "      <td>-1.394890</td>\n",
       "      <td>-1.358652</td>\n",
       "    </tr>\n",
       "    <tr>\n",
       "      <th>1</th>\n",
       "      <td>-0.773010</td>\n",
       "      <td>2.463904</td>\n",
       "      <td>-1.336964</td>\n",
       "      <td>-1.492722</td>\n",
       "    </tr>\n",
       "    <tr>\n",
       "      <th>2</th>\n",
       "      <td>-0.037227</td>\n",
       "      <td>-0.777205</td>\n",
       "      <td>0.748389</td>\n",
       "      <td>0.920532</td>\n",
       "    </tr>\n",
       "    <tr>\n",
       "      <th>3</th>\n",
       "      <td>0.208034</td>\n",
       "      <td>0.843350</td>\n",
       "      <td>0.400830</td>\n",
       "      <td>0.518323</td>\n",
       "    </tr>\n",
       "    <tr>\n",
       "      <th>4</th>\n",
       "      <td>1.066448</td>\n",
       "      <td>0.148826</td>\n",
       "      <td>0.516683</td>\n",
       "      <td>0.384253</td>\n",
       "    </tr>\n",
       "  </tbody>\n",
       "</table>\n",
       "</div>"
      ],
      "text/plain": [
       "   SepalLengthCm  SepalWidthCm  PetalLengthCm  PetalWidthCm\n",
       "0      -1.018271      1.306365      -1.394890     -1.358652\n",
       "1      -0.773010      2.463904      -1.336964     -1.492722\n",
       "2      -0.037227     -0.777205       0.748389      0.920532\n",
       "3       0.208034      0.843350       0.400830      0.518323\n",
       "4       1.066448      0.148826       0.516683      0.384253"
      ]
     },
     "execution_count": 8,
     "metadata": {},
     "output_type": "execute_result"
    }
   ],
   "source": [
    "# Performing Data Scaling (To make all features in same scale)\n",
    "scaler = StandardScaler()\n",
    "scaler.fit(X_train)\n",
    "\n",
    "# transforming training and testing data\n",
    "X_train_scaled = scaler.transform(X_train)\n",
    "X_test_scaled = scaler.transform(X_test)\n",
    "\n",
    "# converting scaled data into pandas dataframe\n",
    "X_train = pd.DataFrame(data=X_train_scaled, columns=iris_df.columns[1:-1])\n",
    "X_test = pd.DataFrame(data=X_test_scaled, columns=iris_df.columns[1:-1])\n",
    "\n",
    "#After standardization, let's have a look at training data\n",
    "X_train.head()"
   ]
  },
  {
   "cell_type": "markdown",
   "id": "f2527d3f",
   "metadata": {
    "papermill": {
     "duration": 0.004936,
     "end_time": "2024-09-16T11:25:34.266923",
     "exception": false,
     "start_time": "2024-09-16T11:25:34.261987",
     "status": "completed"
    },
    "tags": []
   },
   "source": [
    "## Logistic Regression"
   ]
  },
  {
   "cell_type": "code",
   "execution_count": 9,
   "id": "3a2012b1",
   "metadata": {
    "execution": {
     "iopub.execute_input": "2024-09-16T11:25:34.279560Z",
     "iopub.status.busy": "2024-09-16T11:25:34.279113Z",
     "iopub.status.idle": "2024-09-16T11:25:34.313810Z",
     "shell.execute_reply": "2024-09-16T11:25:34.312545Z"
    },
    "papermill": {
     "duration": 0.044277,
     "end_time": "2024-09-16T11:25:34.316392",
     "exception": false,
     "start_time": "2024-09-16T11:25:34.272115",
     "status": "completed"
    },
    "tags": []
   },
   "outputs": [
    {
     "name": "stdout",
     "output_type": "stream",
     "text": [
      "Training Accuracy- 96%\n",
      "Testing Accuracy- 100%\n"
     ]
    }
   ],
   "source": [
    "# Applying Logistic Regression\n",
    "lr = LogisticRegression(C=3, random_state=42)\n",
    "lr.fit(X_train, y_train)\n",
    "\n",
    "print(f\"Training Accuracy- {round(lr.score(X_train, y_train)*100)}%\")\n",
    "print(f\"Testing Accuracy- {round(lr.score(X_test, y_test)*100)}%\")"
   ]
  },
  {
   "cell_type": "markdown",
   "id": "f03e2763",
   "metadata": {
    "papermill": {
     "duration": 0.005069,
     "end_time": "2024-09-16T11:25:34.327197",
     "exception": false,
     "start_time": "2024-09-16T11:25:34.322128",
     "status": "completed"
    },
    "tags": []
   },
   "source": [
    "## SVM: Support Vector Classifier"
   ]
  },
  {
   "cell_type": "code",
   "execution_count": 10,
   "id": "09de0b9c",
   "metadata": {
    "_cell_guid": "7e8e8442-ae96-b764-8ef6-67add2fa2ede",
    "execution": {
     "iopub.execute_input": "2024-09-16T11:25:34.339281Z",
     "iopub.status.busy": "2024-09-16T11:25:34.338858Z",
     "iopub.status.idle": "2024-09-16T11:25:34.370990Z",
     "shell.execute_reply": "2024-09-16T11:25:34.369650Z"
    },
    "papermill": {
     "duration": 0.041563,
     "end_time": "2024-09-16T11:25:34.373880",
     "exception": false,
     "start_time": "2024-09-16T11:25:34.332317",
     "status": "completed"
    },
    "tags": []
   },
   "outputs": [
    {
     "name": "stdout",
     "output_type": "stream",
     "text": [
      "--------------------------------------------------------------------------------\n",
      "Linear SVM\n",
      "Training Accuracy- 97%\n",
      "Testing Accuracy- 97%\n",
      "--------------------------------------------------------------------------------\n",
      "RBF SVM\n",
      "Training Accuracy- 96%\n",
      "Testing Accuracy- 100%\n",
      "--------------------------------------------------------------------------------\n",
      "Poly SVM\n",
      "Training Accuracy- 82%\n",
      "Testing Accuracy- 84%\n",
      "--------------------------------------------------------------------------------\n"
     ]
    }
   ],
   "source": [
    "# Training & Evaluation different SVM with different Kernel Models\n",
    "svm_classifiers = {\"Linear SVM\": SVC(kernel='linear', random_state=42, gamma=.10, C=1.0),\n",
    "                   \"RBF SVM\": SVC(kernel='rbf', random_state=42, gamma=.10, C=1.0),\n",
    "                   \"Poly SVM\": SVC(kernel='poly', random_state=42, gamma=.10, C=1.0)}\n",
    "\n",
    "for name, clf in svm_classifiers.items():\n",
    "    print(\"--\"*40)\n",
    "    print(name)\n",
    "    clf.fit(X_train, y_train)\n",
    "    print(f\"Training Accuracy- {round(clf.score(X_train, y_train)*100)}%\")\n",
    "    print(f\"Testing Accuracy- {round(clf.score(X_test, y_test)*100)}%\")\n",
    "\n",
    "print(\"--\"*40)"
   ]
  },
  {
   "cell_type": "markdown",
   "id": "dc47e934",
   "metadata": {
    "papermill": {
     "duration": 0.005288,
     "end_time": "2024-09-16T11:25:34.384528",
     "exception": false,
     "start_time": "2024-09-16T11:25:34.379240",
     "status": "completed"
    },
    "tags": []
   },
   "source": [
    "## KNN: K-Nearest Neighbor Classifier"
   ]
  },
  {
   "cell_type": "code",
   "execution_count": 11,
   "id": "167f168c",
   "metadata": {
    "execution": {
     "iopub.execute_input": "2024-09-16T11:25:34.397585Z",
     "iopub.status.busy": "2024-09-16T11:25:34.397163Z",
     "iopub.status.idle": "2024-09-16T11:25:34.427169Z",
     "shell.execute_reply": "2024-09-16T11:25:34.425732Z"
    },
    "papermill": {
     "duration": 0.039885,
     "end_time": "2024-09-16T11:25:34.430072",
     "exception": false,
     "start_time": "2024-09-16T11:25:34.390187",
     "status": "completed"
    },
    "tags": []
   },
   "outputs": [
    {
     "name": "stdout",
     "output_type": "stream",
     "text": [
      "Training Accuracy- 96%\n",
      "Testing Accuracy- 100%\n"
     ]
    }
   ],
   "source": [
    "# Applying KNN\n",
    "knn = KNeighborsClassifier(n_neighbors=6, metric='euclidean')\n",
    "knn.fit(X_train, y_train)\n",
    "\n",
    "print(f\"Training Accuracy- {round(knn.score(X_train, y_train)*100)}%\")\n",
    "print(f\"Testing Accuracy- {round(knn.score(X_test, y_test)*100)}%\")"
   ]
  },
  {
   "cell_type": "markdown",
   "id": "81f79b59",
   "metadata": {
    "_cell_guid": "05bffe84-c21b-11b1-0a02-30100d339404",
    "papermill": {
     "duration": 0.005691,
     "end_time": "2024-09-16T11:25:34.441966",
     "exception": false,
     "start_time": "2024-09-16T11:25:34.436275",
     "status": "completed"
    },
    "tags": []
   },
   "source": [
    "## Summary of the model performances:\n",
    "\n",
    "- **Logistic Regression** and **KNN** both achieved 100% testing accuracy, indicating they performed exceptionally well on unseen data. Logistic Regression had a 96% training accuracy, while KNN had a 96% training accuracy as well.\n",
    "\n",
    "- **Linear SVM** demonstrated strong performance with a 97% training accuracy and 97% testing accuracy, showing good generalization.\n",
    "\n",
    "- **RBF SVM** also performed well, with 96% training accuracy and 100% testing accuracy, effectively capturing complex patterns.\n",
    "\n",
    "Overall, Logistic Regression, KNN, and RBF SVM showed the highest performance, with Poly SVM having relatively lower accuracy."
   ]
  },
  {
   "cell_type": "code",
   "execution_count": null,
   "id": "dc7d3cac",
   "metadata": {
    "papermill": {
     "duration": 0.005361,
     "end_time": "2024-09-16T11:25:34.452807",
     "exception": false,
     "start_time": "2024-09-16T11:25:34.447446",
     "status": "completed"
    },
    "tags": []
   },
   "outputs": [],
   "source": []
  }
 ],
 "metadata": {
  "_change_revision": 76,
  "_is_fork": false,
  "kaggle": {
   "accelerator": "none",
   "dataSources": [
    {
     "datasetId": 19,
     "sourceId": 420,
     "sourceType": "datasetVersion"
    }
   ],
   "dockerImageVersionId": 30761,
   "isGpuEnabled": false,
   "isInternetEnabled": true,
   "language": "python",
   "sourceType": "notebook"
  },
  "kernelspec": {
   "display_name": "Python 3",
   "language": "python",
   "name": "python3"
  },
  "language_info": {
   "codemirror_mode": {
    "name": "ipython",
    "version": 3
   },
   "file_extension": ".py",
   "mimetype": "text/x-python",
   "name": "python",
   "nbconvert_exporter": "python",
   "pygments_lexer": "ipython3",
   "version": "3.10.14"
  },
  "papermill": {
   "default_parameters": {},
   "duration": 6.115086,
   "end_time": "2024-09-16T11:25:35.082270",
   "environment_variables": {},
   "exception": null,
   "input_path": "__notebook__.ipynb",
   "output_path": "__notebook__.ipynb",
   "parameters": {},
   "start_time": "2024-09-16T11:25:28.967184",
   "version": "2.6.0"
  }
 },
 "nbformat": 4,
 "nbformat_minor": 5
}
