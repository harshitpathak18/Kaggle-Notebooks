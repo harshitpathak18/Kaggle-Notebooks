{
 "cells": [
  {
   "cell_type": "markdown",
   "id": "9b2ffab6",
   "metadata": {
    "papermill": {
     "duration": 0.010699,
     "end_time": "2024-09-04T17:00:11.933058",
     "exception": false,
     "start_time": "2024-09-04T17:00:11.922359",
     "status": "completed"
    },
    "tags": []
   },
   "source": [
    "# <div style=\"font-size:35px; text-align:center; background:#017307; color:#A8FFAD; padding:10px; margin:5px; border-radius:20px;\">Mall Customer Segmentation</div>"
   ]
  },
  {
   "cell_type": "markdown",
   "id": "8d8e027e",
   "metadata": {
    "id": "MTIXrkCYKtlu",
    "papermill": {
     "duration": 0.009434,
     "end_time": "2024-09-04T17:00:11.952663",
     "exception": false,
     "start_time": "2024-09-04T17:00:11.943229",
     "status": "completed"
    },
    "tags": []
   },
   "source": [
    "## <div style=\"font-size:30px; text-align:center; background:#028508; color:white; padding:10px; margin:5px; border-radius:20px;\">Importing the Dependencies</div>"
   ]
  },
  {
   "cell_type": "code",
   "execution_count": 1,
   "id": "1dc0eb1d",
   "metadata": {
    "execution": {
     "iopub.execute_input": "2024-09-04T17:00:11.969867Z",
     "iopub.status.busy": "2024-09-04T17:00:11.968857Z",
     "iopub.status.idle": "2024-09-04T17:00:15.069961Z",
     "shell.execute_reply": "2024-09-04T17:00:15.068878Z"
    },
    "id": "mL7HLYQFXW-c",
    "papermill": {
     "duration": 3.112457,
     "end_time": "2024-09-04T17:00:15.072809",
     "exception": false,
     "start_time": "2024-09-04T17:00:11.960352",
     "status": "completed"
    },
    "tags": []
   },
   "outputs": [],
   "source": [
    "import numpy as np \n",
    "import pandas as pd\n",
    "import seaborn as sns\n",
    "import matplotlib.pyplot as plt\n",
    "from sklearn.cluster import KMeans\n",
    "from sklearn.preprocessing import MinMaxScaler"
   ]
  },
  {
   "cell_type": "markdown",
   "id": "0c5915d1",
   "metadata": {
    "id": "KigjC6mBLJN3",
    "papermill": {
     "duration": 0.006772,
     "end_time": "2024-09-04T17:00:15.086701",
     "exception": false,
     "start_time": "2024-09-04T17:00:15.079929",
     "status": "completed"
    },
    "tags": []
   },
   "source": [
    "## <div style=\"font-size:30px; text-align:center; background:#028508; color:white; padding:10px; margin:5px; border-radius:20px;\">Data Collection & Analysis</div>"
   ]
  },
  {
   "cell_type": "code",
   "execution_count": 2,
   "id": "68797889",
   "metadata": {
    "execution": {
     "iopub.execute_input": "2024-09-04T17:00:15.102802Z",
     "iopub.status.busy": "2024-09-04T17:00:15.102203Z",
     "iopub.status.idle": "2024-09-04T17:00:15.124654Z",
     "shell.execute_reply": "2024-09-04T17:00:15.123733Z"
    },
    "id": "gTSFo2LiLIav",
    "papermill": {
     "duration": 0.033556,
     "end_time": "2024-09-04T17:00:15.127298",
     "exception": false,
     "start_time": "2024-09-04T17:00:15.093742",
     "status": "completed"
    },
    "tags": []
   },
   "outputs": [],
   "source": [
    "# loading the data from csv file to a Pandas DataFrame\n",
    "customer_data = pd.read_csv('../input/customer-segmentation-tutorial-in-python/Mall_Customers.csv')"
   ]
  },
  {
   "cell_type": "code",
   "execution_count": 3,
   "id": "05e9e3a1",
   "metadata": {
    "execution": {
     "iopub.execute_input": "2024-09-04T17:00:15.144388Z",
     "iopub.status.busy": "2024-09-04T17:00:15.143940Z",
     "iopub.status.idle": "2024-09-04T17:00:15.167261Z",
     "shell.execute_reply": "2024-09-04T17:00:15.165713Z"
    },
    "id": "mbtjztN3Lhcu",
    "outputId": "4b5e3ec9-1784-4918-bece-7616a2305e4b",
    "papermill": {
     "duration": 0.03458,
     "end_time": "2024-09-04T17:00:15.169665",
     "exception": false,
     "start_time": "2024-09-04T17:00:15.135085",
     "status": "completed"
    },
    "tags": []
   },
   "outputs": [
    {
     "data": {
      "text/html": [
       "<div>\n",
       "<style scoped>\n",
       "    .dataframe tbody tr th:only-of-type {\n",
       "        vertical-align: middle;\n",
       "    }\n",
       "\n",
       "    .dataframe tbody tr th {\n",
       "        vertical-align: top;\n",
       "    }\n",
       "\n",
       "    .dataframe thead th {\n",
       "        text-align: right;\n",
       "    }\n",
       "</style>\n",
       "<table border=\"1\" class=\"dataframe\">\n",
       "  <thead>\n",
       "    <tr style=\"text-align: right;\">\n",
       "      <th></th>\n",
       "      <th>CustomerID</th>\n",
       "      <th>Gender</th>\n",
       "      <th>Age</th>\n",
       "      <th>Annual Income (k$)</th>\n",
       "      <th>Spending Score (1-100)</th>\n",
       "    </tr>\n",
       "  </thead>\n",
       "  <tbody>\n",
       "    <tr>\n",
       "      <th>0</th>\n",
       "      <td>1</td>\n",
       "      <td>Male</td>\n",
       "      <td>19</td>\n",
       "      <td>15</td>\n",
       "      <td>39</td>\n",
       "    </tr>\n",
       "    <tr>\n",
       "      <th>1</th>\n",
       "      <td>2</td>\n",
       "      <td>Male</td>\n",
       "      <td>21</td>\n",
       "      <td>15</td>\n",
       "      <td>81</td>\n",
       "    </tr>\n",
       "    <tr>\n",
       "      <th>2</th>\n",
       "      <td>3</td>\n",
       "      <td>Female</td>\n",
       "      <td>20</td>\n",
       "      <td>16</td>\n",
       "      <td>6</td>\n",
       "    </tr>\n",
       "    <tr>\n",
       "      <th>3</th>\n",
       "      <td>4</td>\n",
       "      <td>Female</td>\n",
       "      <td>23</td>\n",
       "      <td>16</td>\n",
       "      <td>77</td>\n",
       "    </tr>\n",
       "    <tr>\n",
       "      <th>4</th>\n",
       "      <td>5</td>\n",
       "      <td>Female</td>\n",
       "      <td>31</td>\n",
       "      <td>17</td>\n",
       "      <td>40</td>\n",
       "    </tr>\n",
       "  </tbody>\n",
       "</table>\n",
       "</div>"
      ],
      "text/plain": [
       "   CustomerID  Gender  Age  Annual Income (k$)  Spending Score (1-100)\n",
       "0           1    Male   19                  15                      39\n",
       "1           2    Male   21                  15                      81\n",
       "2           3  Female   20                  16                       6\n",
       "3           4  Female   23                  16                      77\n",
       "4           5  Female   31                  17                      40"
      ]
     },
     "execution_count": 3,
     "metadata": {},
     "output_type": "execute_result"
    }
   ],
   "source": [
    "# first 5 rows in the dataframe\n",
    "customer_data.head()"
   ]
  },
  {
   "cell_type": "code",
   "execution_count": 4,
   "id": "0b029a46",
   "metadata": {
    "execution": {
     "iopub.execute_input": "2024-09-04T17:00:15.186063Z",
     "iopub.status.busy": "2024-09-04T17:00:15.185626Z",
     "iopub.status.idle": "2024-09-04T17:00:15.193029Z",
     "shell.execute_reply": "2024-09-04T17:00:15.191884Z"
    },
    "id": "-NWZTDNRLofr",
    "outputId": "5cdb9e6b-20f2-4676-da6c-014dc7b3a38e",
    "papermill": {
     "duration": 0.018492,
     "end_time": "2024-09-04T17:00:15.195360",
     "exception": false,
     "start_time": "2024-09-04T17:00:15.176868",
     "status": "completed"
    },
    "tags": []
   },
   "outputs": [
    {
     "data": {
      "text/plain": [
       "(200, 5)"
      ]
     },
     "execution_count": 4,
     "metadata": {},
     "output_type": "execute_result"
    }
   ],
   "source": [
    "# finding the number of rows and columns\n",
    "customer_data.shape"
   ]
  },
  {
   "cell_type": "code",
   "execution_count": 5,
   "id": "fb3454d4",
   "metadata": {
    "execution": {
     "iopub.execute_input": "2024-09-04T17:00:15.212490Z",
     "iopub.status.busy": "2024-09-04T17:00:15.211646Z",
     "iopub.status.idle": "2024-09-04T17:00:15.237315Z",
     "shell.execute_reply": "2024-09-04T17:00:15.236125Z"
    },
    "id": "K5qKxwHiL56b",
    "outputId": "ce5ec885-f107-493a-ecb7-42170d1fd7d5",
    "papermill": {
     "duration": 0.0372,
     "end_time": "2024-09-04T17:00:15.240082",
     "exception": false,
     "start_time": "2024-09-04T17:00:15.202882",
     "status": "completed"
    },
    "tags": []
   },
   "outputs": [
    {
     "name": "stdout",
     "output_type": "stream",
     "text": [
      "<class 'pandas.core.frame.DataFrame'>\n",
      "RangeIndex: 200 entries, 0 to 199\n",
      "Data columns (total 5 columns):\n",
      " #   Column                  Non-Null Count  Dtype \n",
      "---  ------                  --------------  ----- \n",
      " 0   CustomerID              200 non-null    int64 \n",
      " 1   Gender                  200 non-null    object\n",
      " 2   Age                     200 non-null    int64 \n",
      " 3   Annual Income (k$)      200 non-null    int64 \n",
      " 4   Spending Score (1-100)  200 non-null    int64 \n",
      "dtypes: int64(4), object(1)\n",
      "memory usage: 7.9+ KB\n"
     ]
    }
   ],
   "source": [
    "# getting some informations about the dataset\n",
    "customer_data.info()"
   ]
  },
  {
   "cell_type": "code",
   "execution_count": 6,
   "id": "45170a25",
   "metadata": {
    "execution": {
     "iopub.execute_input": "2024-09-04T17:00:15.256976Z",
     "iopub.status.busy": "2024-09-04T17:00:15.256537Z",
     "iopub.status.idle": "2024-09-04T17:00:15.265600Z",
     "shell.execute_reply": "2024-09-04T17:00:15.264486Z"
    },
    "id": "vBtCZvyFMI1O",
    "outputId": "d8a19c04-d0d1-4fb6-ea71-53e2137e0307",
    "papermill": {
     "duration": 0.02049,
     "end_time": "2024-09-04T17:00:15.268136",
     "exception": false,
     "start_time": "2024-09-04T17:00:15.247646",
     "status": "completed"
    },
    "tags": []
   },
   "outputs": [
    {
     "data": {
      "text/plain": [
       "CustomerID                0\n",
       "Gender                    0\n",
       "Age                       0\n",
       "Annual Income (k$)        0\n",
       "Spending Score (1-100)    0\n",
       "dtype: int64"
      ]
     },
     "execution_count": 6,
     "metadata": {},
     "output_type": "execute_result"
    }
   ],
   "source": [
    "# checking for missing values\n",
    "customer_data.isnull().sum()"
   ]
  },
  {
   "cell_type": "code",
   "execution_count": 7,
   "id": "6754fd79",
   "metadata": {
    "execution": {
     "iopub.execute_input": "2024-09-04T17:00:15.285094Z",
     "iopub.status.busy": "2024-09-04T17:00:15.284697Z",
     "iopub.status.idle": "2024-09-04T17:00:15.291701Z",
     "shell.execute_reply": "2024-09-04T17:00:15.290598Z"
    },
    "id": "-GZMLhdvMXv5",
    "papermill": {
     "duration": 0.018244,
     "end_time": "2024-09-04T17:00:15.293982",
     "exception": false,
     "start_time": "2024-09-04T17:00:15.275738",
     "status": "completed"
    },
    "tags": []
   },
   "outputs": [],
   "source": [
    "# Choosing the Annual Income Column & Spending Score column\n",
    "X = customer_data.iloc[:,[3,4]]"
   ]
  },
  {
   "cell_type": "code",
   "execution_count": 8,
   "id": "dd23810a",
   "metadata": {
    "execution": {
     "iopub.execute_input": "2024-09-04T17:00:15.311527Z",
     "iopub.status.busy": "2024-09-04T17:00:15.310623Z",
     "iopub.status.idle": "2024-09-04T17:00:15.320729Z",
     "shell.execute_reply": "2024-09-04T17:00:15.319573Z"
    },
    "papermill": {
     "duration": 0.021374,
     "end_time": "2024-09-04T17:00:15.323075",
     "exception": false,
     "start_time": "2024-09-04T17:00:15.301701",
     "status": "completed"
    },
    "tags": []
   },
   "outputs": [],
   "source": [
    "# Normalizing the data\n",
    "scaler = MinMaxScaler()\n",
    "X_scaled = scaler.fit_transform(X)\n",
    "X = pd.DataFrame(X_scaled, columns=X.columns)"
   ]
  },
  {
   "cell_type": "markdown",
   "id": "3aa7476e",
   "metadata": {
    "id": "LUHCVZWVNVb5",
    "papermill": {
     "duration": 0.007428,
     "end_time": "2024-09-04T17:00:15.338792",
     "exception": false,
     "start_time": "2024-09-04T17:00:15.331364",
     "status": "completed"
    },
    "tags": []
   },
   "source": [
    "## <div style=\"font-size:30px; text-align:center; background:#028508; color:white; padding:10px; margin:5px; border-radius:20px;\">Selecting Optimal No. of Clusters</div>"
   ]
  },
  {
   "cell_type": "code",
   "execution_count": 9,
   "id": "b29ffe96",
   "metadata": {
    "execution": {
     "iopub.execute_input": "2024-09-04T17:00:15.356818Z",
     "iopub.status.busy": "2024-09-04T17:00:15.355481Z",
     "iopub.status.idle": "2024-09-04T17:00:15.950656Z",
     "shell.execute_reply": "2024-09-04T17:00:15.949331Z"
    },
    "id": "LywIm4NDNIG1",
    "papermill": {
     "duration": 0.607605,
     "end_time": "2024-09-04T17:00:15.954034",
     "exception": false,
     "start_time": "2024-09-04T17:00:15.346429",
     "status": "completed"
    },
    "tags": []
   },
   "outputs": [
    {
     "data": {
      "image/png": "[encoded data removed]",
      "text/plain": [
       "<Figure size 1000x400 with 1 Axes>"
      ]
     },
     "metadata": {},
     "output_type": "display_data"
    }
   ],
   "source": [
    "# finding wcss value for different number of clusters\n",
    "wcss = []\n",
    "\n",
    "for i in range(1,15):\n",
    "    kmeans = KMeans(n_clusters=i, n_init='auto', random_state=42)\n",
    "    kmeans.fit(X)\n",
    "    wcss.append(kmeans.inertia_)\n",
    "    \n",
    "    \n",
    "# plotting elbow graph\n",
    "sns.set()\n",
    "plt.figure(figsize=(10,4))\n",
    "plt.plot(range(1,15), wcss)\n",
    "plt.title('The Elbow Point Graph', size=16)\n",
    "plt.xlabel('Number of Clusters')\n",
    "plt.ylabel('WCSS')\n",
    "plt.show()"
   ]
  },
  {
   "cell_type": "markdown",
   "id": "d2b3742f",
   "metadata": {
    "id": "ifedd9_gQC4x",
    "papermill": {
     "duration": 0.007695,
     "end_time": "2024-09-04T17:00:15.971172",
     "exception": false,
     "start_time": "2024-09-04T17:00:15.963477",
     "status": "completed"
    },
    "tags": []
   },
   "source": [
    "`Note`: Here we can clearly see that, Optimum Number of Clusters are 5"
   ]
  },
  {
   "cell_type": "markdown",
   "id": "ead52c00",
   "metadata": {
    "id": "J3DiuWPtQKnU",
    "papermill": {
     "duration": 0.007932,
     "end_time": "2024-09-04T17:00:15.987134",
     "exception": false,
     "start_time": "2024-09-04T17:00:15.979202",
     "status": "completed"
    },
    "tags": []
   },
   "source": [
    "## <div style=\"font-size:30px; text-align:center; background:#028508; color:white; padding:10px; margin:5px; border-radius:20px;\">Training K-Means Clustering Model</div>"
   ]
  },
  {
   "cell_type": "code",
   "execution_count": 10,
   "id": "33091f04",
   "metadata": {
    "execution": {
     "iopub.execute_input": "2024-09-04T17:00:16.005243Z",
     "iopub.status.busy": "2024-09-04T17:00:16.004756Z",
     "iopub.status.idle": "2024-09-04T17:00:16.017385Z",
     "shell.execute_reply": "2024-09-04T17:00:16.016370Z"
    },
    "id": "-5S3HwLpPy3h",
    "outputId": "4d008806-2579-4c85-8b65-d53f10f13191",
    "papermill": {
     "duration": 0.026272,
     "end_time": "2024-09-04T17:00:16.021474",
     "exception": false,
     "start_time": "2024-09-04T17:00:15.995202",
     "status": "completed"
    },
    "tags": []
   },
   "outputs": [],
   "source": [
    "# Initialize the KMeans algorithm with 5 clusters.\n",
    "kmeans = KMeans(n_clusters=5, n_init='auto', random_state=42)\n",
    "\n",
    "# Fit the KMeans algorithm to the data X and predict the cluster for each data point.\n",
    "Y = kmeans.fit_predict(X)\n",
    "\n",
    "# Add a new column 'Cluster' to the original dataset X, storing the cluster label for each data point.\n",
    "X['Cluster'] = Y"
   ]
  },
  {
   "cell_type": "markdown",
   "id": "185f813d",
   "metadata": {
    "id": "AfFa2VDQRNcK",
    "papermill": {
     "duration": 0.008232,
     "end_time": "2024-09-04T17:00:16.039051",
     "exception": false,
     "start_time": "2024-09-04T17:00:16.030819",
     "status": "completed"
    },
    "tags": []
   },
   "source": [
    "## <div style=\"font-size:30px; text-align:center; background:#028508; color:white; padding:10px; margin:5px; border-radius:20px;\">Visualizing all the Clusters</div>\n"
   ]
  },
  {
   "cell_type": "code",
   "execution_count": 11,
   "id": "49940713",
   "metadata": {
    "execution": {
     "iopub.execute_input": "2024-09-04T17:00:16.064502Z",
     "iopub.status.busy": "2024-09-04T17:00:16.063869Z",
     "iopub.status.idle": "2024-09-04T17:00:16.673906Z",
     "shell.execute_reply": "2024-09-04T17:00:16.672721Z"
    },
    "id": "Tl_Obm0aQ_cU",
    "outputId": "9e554efe-7307-4f24-bbda-7fded2ce0616",
    "papermill": {
     "duration": 0.625422,
     "end_time": "2024-09-04T17:00:16.676366",
     "exception": false,
     "start_time": "2024-09-04T17:00:16.050944",
     "status": "completed"
    },
    "tags": []
   },
   "outputs": [
    {
     "data": {
      "image/png": "[encoded data removed]",
      "text/plain": [
       "<Figure size 1200x500 with 1 Axes>"
      ]
     },
     "metadata": {},
     "output_type": "display_data"
    }
   ],
   "source": [
    "# Plotting all clusters with Seaborn\n",
    "plt.figure(figsize=(12,5))\n",
    "sns.scatterplot(data=X, x='Annual Income (k$)', y='Spending Score (1-100)', hue='Cluster', palette='rainbow_r', s=50)\n",
    "\n",
    "# Plot the centroids\n",
    "centroids = pd.DataFrame(kmeans.cluster_centers_, columns=['Annual Income (k$)', 'Spending Score (1-100)'])\n",
    "sns.scatterplot(data=centroids, x='Annual Income (k$)', y='Spending Score (1-100)', color='green', s=100, label='Centroids', marker='^')\n",
    "plt.title('Customer Groups')\n",
    "plt.show()"
   ]
  },
  {
   "cell_type": "markdown",
   "id": "60d48186",
   "metadata": {
    "papermill": {
     "duration": 0.009205,
     "end_time": "2024-09-04T17:00:16.695204",
     "exception": false,
     "start_time": "2024-09-04T17:00:16.685999",
     "status": "completed"
    },
    "tags": []
   },
   "source": [
    "## <div style=\"font-size:30px; text-align:center; background:#028508; color:white; padding:10px; margin:5px; border-radius:20px;\">Conclusion</div>"
   ]
  },
  {
   "cell_type": "code",
   "execution_count": 12,
   "id": "a51cc0db",
   "metadata": {
    "execution": {
     "iopub.execute_input": "2024-09-04T17:00:16.716250Z",
     "iopub.status.busy": "2024-09-04T17:00:16.715771Z",
     "iopub.status.idle": "2024-09-04T17:00:16.844077Z",
     "shell.execute_reply": "2024-09-04T17:00:16.843043Z"
    },
    "papermill": {
     "duration": 0.142308,
     "end_time": "2024-09-04T17:00:16.846904",
     "exception": false,
     "start_time": "2024-09-04T17:00:16.704596",
     "status": "completed"
    },
    "tags": []
   },
   "outputs": [
    {
     "data": {
      "text/html": [
       "<style type=\"text/css\">\n",
       "#T_796a1_row0_col0, #T_796a1_row1_col2, #T_796a1_row3_col1 {\n",
       "  background-color: #f7fcf5;\n",
       "  color: #000000;\n",
       "}\n",
       "#T_796a1_row0_col1 {\n",
       "  background-color: #7dc87e;\n",
       "  color: #000000;\n",
       "}\n",
       "#T_796a1_row0_col2 {\n",
       "  background-color: #75c477;\n",
       "  color: #000000;\n",
       "}\n",
       "#T_796a1_row1_col0 {\n",
       "  background-color: #c7e9c0;\n",
       "  color: #000000;\n",
       "}\n",
       "#T_796a1_row1_col1, #T_796a1_row4_col0, #T_796a1_row4_col2 {\n",
       "  background-color: #00441b;\n",
       "  color: #f1f1f1;\n",
       "}\n",
       "#T_796a1_row2_col0 {\n",
       "  background-color: #73c476;\n",
       "  color: #000000;\n",
       "}\n",
       "#T_796a1_row2_col1 {\n",
       "  background-color: #f6fcf4;\n",
       "  color: #000000;\n",
       "}\n",
       "#T_796a1_row2_col2 {\n",
       "  background-color: #eff9ec;\n",
       "  color: #000000;\n",
       "}\n",
       "#T_796a1_row3_col0 {\n",
       "  background-color: #228a44;\n",
       "  color: #f1f1f1;\n",
       "}\n",
       "#T_796a1_row3_col2 {\n",
       "  background-color: #005120;\n",
       "  color: #f1f1f1;\n",
       "}\n",
       "#T_796a1_row4_col1 {\n",
       "  background-color: #004c1e;\n",
       "  color: #f1f1f1;\n",
       "}\n",
       "</style>\n",
       "<table id=\"T_796a1\">\n",
       "  <thead>\n",
       "    <tr>\n",
       "      <th class=\"blank level0\" >&nbsp;</th>\n",
       "      <th id=\"T_796a1_level0_col0\" class=\"col_heading level0 col0\" >Cluster</th>\n",
       "      <th id=\"T_796a1_level0_col1\" class=\"col_heading level0 col1\" >Annual Income (k$)</th>\n",
       "      <th id=\"T_796a1_level0_col2\" class=\"col_heading level0 col2\" >Spending Score (1-100)</th>\n",
       "    </tr>\n",
       "  </thead>\n",
       "  <tbody>\n",
       "    <tr>\n",
       "      <th id=\"T_796a1_level0_row0\" class=\"row_heading level0 row0\" >0</th>\n",
       "      <td id=\"T_796a1_row0_col0\" class=\"data row0 col0\" >0</td>\n",
       "      <td id=\"T_796a1_row0_col1\" class=\"data row0 col1\" >0.330298</td>\n",
       "      <td id=\"T_796a1_row0_col2\" class=\"data row0 col2\" >0.495087</td>\n",
       "    </tr>\n",
       "    <tr>\n",
       "      <th id=\"T_796a1_level0_row1\" class=\"row_heading level0 row1\" >1</th>\n",
       "      <td id=\"T_796a1_row1_col0\" class=\"data row1 col0\" >1</td>\n",
       "      <td id=\"T_796a1_row1_col1\" class=\"data row1 col1\" >0.600000</td>\n",
       "      <td id=\"T_796a1_row1_col2\" class=\"data row1 col2\" >0.164431</td>\n",
       "    </tr>\n",
       "    <tr>\n",
       "      <th id=\"T_796a1_level0_row2\" class=\"row_heading level0 row2\" >2</th>\n",
       "      <td id=\"T_796a1_row2_col0\" class=\"data row2 col0\" >2</td>\n",
       "      <td id=\"T_796a1_row2_col1\" class=\"data row2 col1\" >0.092659</td>\n",
       "      <td id=\"T_796a1_row2_col2\" class=\"data row2 col2\" >0.203194</td>\n",
       "    </tr>\n",
       "    <tr>\n",
       "      <th id=\"T_796a1_level0_row3\" class=\"row_heading level0 row3\" >3</th>\n",
       "      <td id=\"T_796a1_row3_col0\" class=\"data row3 col0\" >3</td>\n",
       "      <td id=\"T_796a1_row3_col1\" class=\"data row3 col1\" >0.087928</td>\n",
       "      <td id=\"T_796a1_row3_col2\" class=\"data row3 col2\" >0.799629</td>\n",
       "    </tr>\n",
       "    <tr>\n",
       "      <th id=\"T_796a1_level0_row4\" class=\"row_heading level0 row4\" >4</th>\n",
       "      <td id=\"T_796a1_row4_col0\" class=\"data row4 col0\" >4</td>\n",
       "      <td id=\"T_796a1_row4_col1\" class=\"data row4 col1\" >0.586381</td>\n",
       "      <td id=\"T_796a1_row4_col2\" class=\"data row4 col2\" >0.827839</td>\n",
       "    </tr>\n",
       "  </tbody>\n",
       "</table>\n"
      ],
      "text/plain": [
       "<pandas.io.formats.style.Styler at 0x7c43ed083280>"
      ]
     },
     "execution_count": 12,
     "metadata": {},
     "output_type": "execute_result"
    }
   ],
   "source": [
    "# Analyzing Clusters\n",
    "X.groupby(by='Cluster').mean().reset_index().style.background_gradient(cmap='Greens')"
   ]
  },
  {
   "cell_type": "markdown",
   "id": "fe82af2e",
   "metadata": {
    "papermill": {
     "duration": 0.00942,
     "end_time": "2024-09-04T17:00:16.866082",
     "exception": false,
     "start_time": "2024-09-04T17:00:16.856662",
     "status": "completed"
    },
    "tags": []
   },
   "source": [
    "<div style=\"font-size:12px; background:#028508; color:white; padding:10px; margin:5px; border-radius:20px;\">\n",
    "    \n",
    "#### Cluster 0 - Customers in Cluster 0 have low annual incomes but maintain average spending. They manage their finances carefully, balancing essential and discretionary purchases.\n",
    "    \n",
    "#### Cluster 1 - Cluster 1 includes customers with high incomes but low spending. They prefer saving or investing over spending, indicating a conservative financial approach.\n",
    "\n",
    "#### Cluster 2 - Customers in Cluster 2 have very low incomes and low spending, focusing on essential needs with minimal expenditures due to limited financial resources.\n",
    "\n",
    "#### Cluster 3 - Cluster 3 features customers with very low incomes but high spending. Despite limited means, they prioritize spending on non-essential or luxury items.\n",
    "\n",
    "#### Cluster 4 - Cluster 4 consists of affluent customers with high spending. They are key targets for luxury goods or premium services, reflecting both financial capability and a strong willingness to spend.\n",
    "<div>\n"
   ]
  },
  {
   "cell_type": "code",
   "execution_count": null,
   "id": "f8dd8fc9",
   "metadata": {
    "papermill": {
     "duration": 0.009243,
     "end_time": "2024-09-04T17:00:16.884851",
     "exception": false,
     "start_time": "2024-09-04T17:00:16.875608",
     "status": "completed"
    },
    "tags": []
   },
   "outputs": [],
   "source": []
  }
 ],
 "metadata": {
  "colab": {
   "provenance": []
  },
  "kaggle": {
   "accelerator": "none",
   "dataSources": [
    {
     "datasetId": 42674,
     "sourceId": 74935,
     "sourceType": "datasetVersion"
    }
   ],
   "dockerImageVersionId": 30761,
   "isGpuEnabled": false,
   "isInternetEnabled": true,
   "language": "python",
   "sourceType": "notebook"
  },
  "kernelspec": {
   "display_name": "Python 3",
   "language": "python",
   "name": "python3"
  },
  "language_info": {
   "codemirror_mode": {
    "name": "ipython",
    "version": 3
   },
   "file_extension": ".py",
   "mimetype": "text/x-python",
   "name": "python",
   "nbconvert_exporter": "python",
   "pygments_lexer": "ipython3",
   "version": "3.10.14"
  },
  "papermill": {
   "default_parameters": {},
   "duration": 9.127192,
   "end_time": "2024-09-04T17:00:17.616887",
   "environment_variables": {},
   "exception": null,
   "input_path": "__notebook__.ipynb",
   "output_path": "__notebook__.ipynb",
   "parameters": {},
   "start_time": "2024-09-04T17:00:08.489695",
   "version": "2.6.0"
  }
 },
 "nbformat": 4,
 "nbformat_minor": 5
}
