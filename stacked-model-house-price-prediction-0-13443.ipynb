{
 "cells": [
  {
   "cell_type": "code",
   "execution_count": 1,
   "id": "e3d3d904",
   "metadata": {
    "_cell_guid": "b1076dfc-b9ad-4769-8c92-a6c4dae69d19",
    "_uuid": "8f2839f25d086af736a60e9eeb907d3b93b6e0e5",
    "execution": {
     "iopub.execute_input": "2024-09-06T06:55:43.068974Z",
     "iopub.status.busy": "2024-09-06T06:55:43.067838Z",
     "iopub.status.idle": "2024-09-06T06:55:47.270432Z",
     "shell.execute_reply": "2024-09-06T06:55:47.268975Z"
    },
    "papermill": {
     "duration": 4.216165,
     "end_time": "2024-09-06T06:55:47.274018",
     "exception": false,
     "start_time": "2024-09-06T06:55:43.057853",
     "status": "completed"
    },
    "tags": []
   },
   "outputs": [],
   "source": [
    "# importing libraries\n",
    "import numpy as np\n",
    "import pandas as pd\n",
    "import xgboost as xgb\n",
    "import lightgbm as lgb\n",
    "from sklearn.linear_model import Ridge\n",
    "from sklearn.preprocessing import LabelEncoder\n",
    "from sklearn.metrics import mean_squared_error\n",
    "from sklearn.model_selection import train_test_split\n",
    "from sklearn.feature_selection import SelectKBest, f_regression\n",
    "from sklearn.ensemble import RandomForestRegressor, GradientBoostingRegressor, AdaBoostRegressor"
   ]
  },
  {
   "cell_type": "code",
   "execution_count": 2,
   "id": "b6aa9c8b",
   "metadata": {
    "execution": {
     "iopub.execute_input": "2024-09-06T06:55:47.291162Z",
     "iopub.status.busy": "2024-09-06T06:55:47.288938Z",
     "iopub.status.idle": "2024-09-06T06:55:47.430408Z",
     "shell.execute_reply": "2024-09-06T06:55:47.428839Z"
    },
    "papermill": {
     "duration": 0.153243,
     "end_time": "2024-09-06T06:55:47.433963",
     "exception": false,
     "start_time": "2024-09-06T06:55:47.280720",
     "status": "completed"
    },
    "tags": []
   },
   "outputs": [
    {
     "data": {
      "text/html": [
       "<div>\n",
       "<style scoped>\n",
       "    .dataframe tbody tr th:only-of-type {\n",
       "        vertical-align: middle;\n",
       "    }\n",
       "\n",
       "    .dataframe tbody tr th {\n",
       "        vertical-align: top;\n",
       "    }\n",
       "\n",
       "    .dataframe thead th {\n",
       "        text-align: right;\n",
       "    }\n",
       "</style>\n",
       "<table border=\"1\" class=\"dataframe\">\n",
       "  <thead>\n",
       "    <tr style=\"text-align: right;\">\n",
       "      <th></th>\n",
       "      <th>Id</th>\n",
       "      <th>MSSubClass</th>\n",
       "      <th>MSZoning</th>\n",
       "      <th>LotFrontage</th>\n",
       "      <th>LotArea</th>\n",
       "      <th>Street</th>\n",
       "      <th>Alley</th>\n",
       "      <th>LotShape</th>\n",
       "      <th>LandContour</th>\n",
       "      <th>Utilities</th>\n",
       "      <th>...</th>\n",
       "      <th>PoolArea</th>\n",
       "      <th>PoolQC</th>\n",
       "      <th>Fence</th>\n",
       "      <th>MiscFeature</th>\n",
       "      <th>MiscVal</th>\n",
       "      <th>MoSold</th>\n",
       "      <th>YrSold</th>\n",
       "      <th>SaleType</th>\n",
       "      <th>SaleCondition</th>\n",
       "      <th>SalePrice</th>\n",
       "    </tr>\n",
       "  </thead>\n",
       "  <tbody>\n",
       "    <tr>\n",
       "      <th>0</th>\n",
       "      <td>1</td>\n",
       "      <td>60</td>\n",
       "      <td>RL</td>\n",
       "      <td>65.0</td>\n",
       "      <td>8450</td>\n",
       "      <td>Pave</td>\n",
       "      <td>NaN</td>\n",
       "      <td>Reg</td>\n",
       "      <td>Lvl</td>\n",
       "      <td>AllPub</td>\n",
       "      <td>...</td>\n",
       "      <td>0</td>\n",
       "      <td>NaN</td>\n",
       "      <td>NaN</td>\n",
       "      <td>NaN</td>\n",
       "      <td>0</td>\n",
       "      <td>2</td>\n",
       "      <td>2008</td>\n",
       "      <td>WD</td>\n",
       "      <td>Normal</td>\n",
       "      <td>208500</td>\n",
       "    </tr>\n",
       "    <tr>\n",
       "      <th>1</th>\n",
       "      <td>2</td>\n",
       "      <td>20</td>\n",
       "      <td>RL</td>\n",
       "      <td>80.0</td>\n",
       "      <td>9600</td>\n",
       "      <td>Pave</td>\n",
       "      <td>NaN</td>\n",
       "      <td>Reg</td>\n",
       "      <td>Lvl</td>\n",
       "      <td>AllPub</td>\n",
       "      <td>...</td>\n",
       "      <td>0</td>\n",
       "      <td>NaN</td>\n",
       "      <td>NaN</td>\n",
       "      <td>NaN</td>\n",
       "      <td>0</td>\n",
       "      <td>5</td>\n",
       "      <td>2007</td>\n",
       "      <td>WD</td>\n",
       "      <td>Normal</td>\n",
       "      <td>181500</td>\n",
       "    </tr>\n",
       "    <tr>\n",
       "      <th>2</th>\n",
       "      <td>3</td>\n",
       "      <td>60</td>\n",
       "      <td>RL</td>\n",
       "      <td>68.0</td>\n",
       "      <td>11250</td>\n",
       "      <td>Pave</td>\n",
       "      <td>NaN</td>\n",
       "      <td>IR1</td>\n",
       "      <td>Lvl</td>\n",
       "      <td>AllPub</td>\n",
       "      <td>...</td>\n",
       "      <td>0</td>\n",
       "      <td>NaN</td>\n",
       "      <td>NaN</td>\n",
       "      <td>NaN</td>\n",
       "      <td>0</td>\n",
       "      <td>9</td>\n",
       "      <td>2008</td>\n",
       "      <td>WD</td>\n",
       "      <td>Normal</td>\n",
       "      <td>223500</td>\n",
       "    </tr>\n",
       "    <tr>\n",
       "      <th>3</th>\n",
       "      <td>4</td>\n",
       "      <td>70</td>\n",
       "      <td>RL</td>\n",
       "      <td>60.0</td>\n",
       "      <td>9550</td>\n",
       "      <td>Pave</td>\n",
       "      <td>NaN</td>\n",
       "      <td>IR1</td>\n",
       "      <td>Lvl</td>\n",
       "      <td>AllPub</td>\n",
       "      <td>...</td>\n",
       "      <td>0</td>\n",
       "      <td>NaN</td>\n",
       "      <td>NaN</td>\n",
       "      <td>NaN</td>\n",
       "      <td>0</td>\n",
       "      <td>2</td>\n",
       "      <td>2006</td>\n",
       "      <td>WD</td>\n",
       "      <td>Abnorml</td>\n",
       "      <td>140000</td>\n",
       "    </tr>\n",
       "    <tr>\n",
       "      <th>4</th>\n",
       "      <td>5</td>\n",
       "      <td>60</td>\n",
       "      <td>RL</td>\n",
       "      <td>84.0</td>\n",
       "      <td>14260</td>\n",
       "      <td>Pave</td>\n",
       "      <td>NaN</td>\n",
       "      <td>IR1</td>\n",
       "      <td>Lvl</td>\n",
       "      <td>AllPub</td>\n",
       "      <td>...</td>\n",
       "      <td>0</td>\n",
       "      <td>NaN</td>\n",
       "      <td>NaN</td>\n",
       "      <td>NaN</td>\n",
       "      <td>0</td>\n",
       "      <td>12</td>\n",
       "      <td>2008</td>\n",
       "      <td>WD</td>\n",
       "      <td>Normal</td>\n",
       "      <td>250000</td>\n",
       "    </tr>\n",
       "  </tbody>\n",
       "</table>\n",
       "<p>5 rows × 81 columns</p>\n",
       "</div>"
      ],
      "text/plain": [
       "   Id  MSSubClass MSZoning  LotFrontage  LotArea Street Alley LotShape  \\\n",
       "0   1          60       RL         65.0     8450   Pave   NaN      Reg   \n",
       "1   2          20       RL         80.0     9600   Pave   NaN      Reg   \n",
       "2   3          60       RL         68.0    11250   Pave   NaN      IR1   \n",
       "3   4          70       RL         60.0     9550   Pave   NaN      IR1   \n",
       "4   5          60       RL         84.0    14260   Pave   NaN      IR1   \n",
       "\n",
       "  LandContour Utilities  ... PoolArea PoolQC Fence MiscFeature MiscVal MoSold  \\\n",
       "0         Lvl    AllPub  ...        0    NaN   NaN         NaN       0      2   \n",
       "1         Lvl    AllPub  ...        0    NaN   NaN         NaN       0      5   \n",
       "2         Lvl    AllPub  ...        0    NaN   NaN         NaN       0      9   \n",
       "3         Lvl    AllPub  ...        0    NaN   NaN         NaN       0      2   \n",
       "4         Lvl    AllPub  ...        0    NaN   NaN         NaN       0     12   \n",
       "\n",
       "  YrSold  SaleType  SaleCondition  SalePrice  \n",
       "0   2008        WD         Normal     208500  \n",
       "1   2007        WD         Normal     181500  \n",
       "2   2008        WD         Normal     223500  \n",
       "3   2006        WD        Abnorml     140000  \n",
       "4   2008        WD         Normal     250000  \n",
       "\n",
       "[5 rows x 81 columns]"
      ]
     },
     "execution_count": 2,
     "metadata": {},
     "output_type": "execute_result"
    }
   ],
   "source": [
    "# loading dataset\n",
    "train = pd.read_csv(r'/kaggle/input/house-prices-advanced-regression-techniques/train.csv')\n",
    "test = pd.read_csv(r'/kaggle/input/house-prices-advanced-regression-techniques/test.csv')\n",
    "\n",
    "train.head()"
   ]
  },
  {
   "cell_type": "code",
   "execution_count": 3,
   "id": "d112364d",
   "metadata": {
    "execution": {
     "iopub.execute_input": "2024-09-06T06:55:47.450293Z",
     "iopub.status.busy": "2024-09-06T06:55:47.449735Z",
     "iopub.status.idle": "2024-09-06T06:55:47.457677Z",
     "shell.execute_reply": "2024-09-06T06:55:47.456432Z"
    },
    "papermill": {
     "duration": 0.020337,
     "end_time": "2024-09-06T06:55:47.461082",
     "exception": false,
     "start_time": "2024-09-06T06:55:47.440745",
     "status": "completed"
    },
    "tags": []
   },
   "outputs": [
    {
     "data": {
      "text/plain": [
       "(1460, 81)"
      ]
     },
     "execution_count": 3,
     "metadata": {},
     "output_type": "execute_result"
    }
   ],
   "source": [
    "# shape\n",
    "train.shape"
   ]
  },
  {
   "cell_type": "code",
   "execution_count": 4,
   "id": "838d5d8e",
   "metadata": {
    "execution": {
     "iopub.execute_input": "2024-09-06T06:55:47.479458Z",
     "iopub.status.busy": "2024-09-06T06:55:47.478710Z",
     "iopub.status.idle": "2024-09-06T06:55:47.486194Z",
     "shell.execute_reply": "2024-09-06T06:55:47.484810Z"
    },
    "papermill": {
     "duration": 0.021116,
     "end_time": "2024-09-06T06:55:47.489991",
     "exception": false,
     "start_time": "2024-09-06T06:55:47.468875",
     "status": "completed"
    },
    "tags": []
   },
   "outputs": [
    {
     "name": "stdout",
     "output_type": "stream",
     "text": [
      "Features - ['Id', 'MSSubClass', 'MSZoning', 'LotFrontage', 'LotArea', 'Street', 'Alley', 'LotShape', 'LandContour', 'Utilities', 'LotConfig', 'LandSlope', 'Neighborhood', 'Condition1', 'Condition2', 'BldgType', 'HouseStyle', 'OverallQual', 'OverallCond', 'YearBuilt', 'YearRemodAdd', 'RoofStyle', 'RoofMatl', 'Exterior1st', 'Exterior2nd', 'MasVnrType', 'MasVnrArea', 'ExterQual', 'ExterCond', 'Foundation', 'BsmtQual', 'BsmtCond', 'BsmtExposure', 'BsmtFinType1', 'BsmtFinSF1', 'BsmtFinType2', 'BsmtFinSF2', 'BsmtUnfSF', 'TotalBsmtSF', 'Heating', 'HeatingQC', 'CentralAir', 'Electrical', '1stFlrSF', '2ndFlrSF', 'LowQualFinSF', 'GrLivArea', 'BsmtFullBath', 'BsmtHalfBath', 'FullBath', 'HalfBath', 'BedroomAbvGr', 'KitchenAbvGr', 'KitchenQual', 'TotRmsAbvGrd', 'Functional', 'Fireplaces', 'FireplaceQu', 'GarageType', 'GarageYrBlt', 'GarageFinish', 'GarageCars', 'GarageArea', 'GarageQual', 'GarageCond', 'PavedDrive', 'WoodDeckSF', 'OpenPorchSF', 'EnclosedPorch', '3SsnPorch', 'ScreenPorch', 'PoolArea', 'PoolQC', 'Fence', 'MiscFeature', 'MiscVal', 'MoSold', 'YrSold', 'SaleType', 'SaleCondition', 'SalePrice']\n"
     ]
    }
   ],
   "source": [
    "# features\n",
    "print(f\"Features - {train.columns.tolist()}\")"
   ]
  },
  {
   "cell_type": "code",
   "execution_count": 5,
   "id": "8be48a2d",
   "metadata": {
    "execution": {
     "iopub.execute_input": "2024-09-06T06:55:47.506437Z",
     "iopub.status.busy": "2024-09-06T06:55:47.505845Z",
     "iopub.status.idle": "2024-09-06T06:55:47.531510Z",
     "shell.execute_reply": "2024-09-06T06:55:47.529518Z"
    },
    "papermill": {
     "duration": 0.037663,
     "end_time": "2024-09-06T06:55:47.534702",
     "exception": false,
     "start_time": "2024-09-06T06:55:47.497039",
     "status": "completed"
    },
    "tags": []
   },
   "outputs": [
    {
     "name": "stdout",
     "output_type": "stream",
     "text": [
      "Null Values in training data - 7829\n",
      "Null Values in testing data - 7878\n"
     ]
    }
   ],
   "source": [
    "# null data count\n",
    "print(f\"Null Values in training data - {train.isnull().sum().sum()}\")\n",
    "print(f\"Null Values in testing data - {test.isnull().sum().sum()}\")"
   ]
  },
  {
   "cell_type": "code",
   "execution_count": 6,
   "id": "bbf9233c",
   "metadata": {
    "execution": {
     "iopub.execute_input": "2024-09-06T06:55:47.551097Z",
     "iopub.status.busy": "2024-09-06T06:55:47.550556Z",
     "iopub.status.idle": "2024-09-06T06:55:47.566943Z",
     "shell.execute_reply": "2024-09-06T06:55:47.565551Z"
    },
    "papermill": {
     "duration": 0.028047,
     "end_time": "2024-09-06T06:55:47.569846",
     "exception": false,
     "start_time": "2024-09-06T06:55:47.541799",
     "status": "completed"
    },
    "tags": []
   },
   "outputs": [
    {
     "name": "stdout",
     "output_type": "stream",
     "text": [
      "Null Data-\n",
      " {'Id': 0, 'MSSubClass': 0, 'MSZoning': 0, 'LotFrontage': 259, 'LotArea': 0, 'Street': 0, 'Alley': 1369, 'LotShape': 0, 'LandContour': 0, 'Utilities': 0, 'LotConfig': 0, 'LandSlope': 0, 'Neighborhood': 0, 'Condition1': 0, 'Condition2': 0, 'BldgType': 0, 'HouseStyle': 0, 'OverallQual': 0, 'OverallCond': 0, 'YearBuilt': 0, 'YearRemodAdd': 0, 'RoofStyle': 0, 'RoofMatl': 0, 'Exterior1st': 0, 'Exterior2nd': 0, 'MasVnrType': 872, 'MasVnrArea': 8, 'ExterQual': 0, 'ExterCond': 0, 'Foundation': 0, 'BsmtQual': 37, 'BsmtCond': 37, 'BsmtExposure': 38, 'BsmtFinType1': 37, 'BsmtFinSF1': 0, 'BsmtFinType2': 38, 'BsmtFinSF2': 0, 'BsmtUnfSF': 0, 'TotalBsmtSF': 0, 'Heating': 0, 'HeatingQC': 0, 'CentralAir': 0, 'Electrical': 1, '1stFlrSF': 0, '2ndFlrSF': 0, 'LowQualFinSF': 0, 'GrLivArea': 0, 'BsmtFullBath': 0, 'BsmtHalfBath': 0, 'FullBath': 0, 'HalfBath': 0, 'BedroomAbvGr': 0, 'KitchenAbvGr': 0, 'KitchenQual': 0, 'TotRmsAbvGrd': 0, 'Functional': 0, 'Fireplaces': 0, 'FireplaceQu': 690, 'GarageType': 81, 'GarageYrBlt': 81, 'GarageFinish': 81, 'GarageCars': 0, 'GarageArea': 0, 'GarageQual': 81, 'GarageCond': 81, 'PavedDrive': 0, 'WoodDeckSF': 0, 'OpenPorchSF': 0, 'EnclosedPorch': 0, '3SsnPorch': 0, 'ScreenPorch': 0, 'PoolArea': 0, 'PoolQC': 1453, 'Fence': 1179, 'MiscFeature': 1406, 'MiscVal': 0, 'MoSold': 0, 'YrSold': 0, 'SaleType': 0, 'SaleCondition': 0, 'SalePrice': 0}\n"
     ]
    }
   ],
   "source": [
    "# Features with null values\n",
    "print(\"Null Data-\\n\",dict(train.isnull().sum()))"
   ]
  },
  {
   "cell_type": "code",
   "execution_count": 7,
   "id": "077a5d3a",
   "metadata": {
    "execution": {
     "iopub.execute_input": "2024-09-06T06:55:47.586655Z",
     "iopub.status.busy": "2024-09-06T06:55:47.586087Z",
     "iopub.status.idle": "2024-09-06T06:55:47.597578Z",
     "shell.execute_reply": "2024-09-06T06:55:47.596236Z"
    },
    "papermill": {
     "duration": 0.02359,
     "end_time": "2024-09-06T06:55:47.600624",
     "exception": false,
     "start_time": "2024-09-06T06:55:47.577034",
     "status": "completed"
    },
    "tags": []
   },
   "outputs": [],
   "source": [
    "# Dropping Useless Features\n",
    "columns=['Alley','MasVnrType','FireplaceQu','PoolQC','Fence','MiscFeature','Utilities','Street']\n",
    "train=train.drop(columns,axis=1)\n",
    "test=test.drop(columns,axis=1)"
   ]
  },
  {
   "cell_type": "code",
   "execution_count": 8,
   "id": "cfab9383",
   "metadata": {
    "execution": {
     "iopub.execute_input": "2024-09-06T06:55:47.617628Z",
     "iopub.status.busy": "2024-09-06T06:55:47.617056Z",
     "iopub.status.idle": "2024-09-06T06:55:47.673534Z",
     "shell.execute_reply": "2024-09-06T06:55:47.672219Z"
    },
    "papermill": {
     "duration": 0.06893,
     "end_time": "2024-09-06T06:55:47.676749",
     "exception": false,
     "start_time": "2024-09-06T06:55:47.607819",
     "status": "completed"
    },
    "tags": []
   },
   "outputs": [],
   "source": [
    "bsmt_garage_features = [\n",
    "    'BsmtQual', 'BsmtCond', 'BsmtExposure', 'BsmtFinType1', 'BsmtFinType2', \n",
    "    'Electrical', 'GarageType', 'GarageFinish', 'GarageQual', 'GarageCond',\n",
    "    'LotFrontage', 'MasVnrArea', 'GarageYrBlt', 'BsmtFinSF1', 'BsmtFinSF2', \n",
    "    'BsmtUnfSF', 'TotalBsmtSF', 'BsmtFullBath', 'BsmtHalfBath', \n",
    "    'GarageCars', 'GarageArea'\n",
    "]\n",
    "\n",
    "# Filling missing values in both the training and test datasets for the specified features using mean\n",
    "for feature in bsmt_garage_features:\n",
    "    train[feature] = train[feature].fillna(train[feature].mode()[0])  \n",
    "    test[feature] = test[feature].fillna(test[feature].mode()[0])    \n",
    "\n",
    "other_features = ['MSZoning', 'Exterior1st', 'Exterior2nd', 'KitchenQual', 'Functional', 'SaleType']\n",
    "\n",
    "# Filling missing values in the test dataset for the specified features using mode\n",
    "for feature in other_features:\n",
    "    test[feature] = test[feature].fillna(test[feature].mode()[0])\n"
   ]
  },
  {
   "cell_type": "code",
   "execution_count": 9,
   "id": "4c25d74b",
   "metadata": {
    "execution": {
     "iopub.execute_input": "2024-09-06T06:55:47.693827Z",
     "iopub.status.busy": "2024-09-06T06:55:47.693286Z",
     "iopub.status.idle": "2024-09-06T06:55:47.769438Z",
     "shell.execute_reply": "2024-09-06T06:55:47.767953Z"
    },
    "papermill": {
     "duration": 0.088657,
     "end_time": "2024-09-06T06:55:47.772775",
     "exception": false,
     "start_time": "2024-09-06T06:55:47.684118",
     "status": "completed"
    },
    "tags": []
   },
   "outputs": [],
   "source": [
    "# Feature Encoding \n",
    "encoder = LabelEncoder()\n",
    "\n",
    "for i in train.columns:\n",
    "    if train[i].dtype=='object':\n",
    "        train[i]=encoder.fit_transform(train[i])\n",
    "        \n",
    "for i in test.columns:\n",
    "    if test[i].dtype=='object':\n",
    "        test[i]=encoder.fit_transform(test[i])"
   ]
  },
  {
   "cell_type": "code",
   "execution_count": 10,
   "id": "55345d17",
   "metadata": {
    "execution": {
     "iopub.execute_input": "2024-09-06T06:55:47.792207Z",
     "iopub.status.busy": "2024-09-06T06:55:47.791613Z",
     "iopub.status.idle": "2024-09-06T06:55:47.799577Z",
     "shell.execute_reply": "2024-09-06T06:55:47.798241Z"
    },
    "papermill": {
     "duration": 0.02196,
     "end_time": "2024-09-06T06:55:47.802729",
     "exception": false,
     "start_time": "2024-09-06T06:55:47.780769",
     "status": "completed"
    },
    "tags": []
   },
   "outputs": [],
   "source": [
    "# Applying logarithmic transformation\n",
    "train['SalePrice']=np.log1p(train['SalePrice'])"
   ]
  },
  {
   "cell_type": "code",
   "execution_count": 11,
   "id": "f2386d20",
   "metadata": {
    "execution": {
     "iopub.execute_input": "2024-09-06T06:55:47.820304Z",
     "iopub.status.busy": "2024-09-06T06:55:47.819694Z",
     "iopub.status.idle": "2024-09-06T06:55:47.831405Z",
     "shell.execute_reply": "2024-09-06T06:55:47.830006Z"
    },
    "papermill": {
     "duration": 0.024281,
     "end_time": "2024-09-06T06:55:47.834600",
     "exception": false,
     "start_time": "2024-09-06T06:55:47.810319",
     "status": "completed"
    },
    "tags": []
   },
   "outputs": [],
   "source": [
    "# splitting into dependent & independent features\n",
    "X = train.drop(['SalePrice', 'Id'],axis=1)\n",
    "y = train['SalePrice']"
   ]
  },
  {
   "cell_type": "code",
   "execution_count": 12,
   "id": "844ec66d",
   "metadata": {
    "execution": {
     "iopub.execute_input": "2024-09-06T06:55:47.851393Z",
     "iopub.status.busy": "2024-09-06T06:55:47.850846Z",
     "iopub.status.idle": "2024-09-06T06:55:47.868317Z",
     "shell.execute_reply": "2024-09-06T06:55:47.866970Z"
    },
    "papermill": {
     "duration": 0.029793,
     "end_time": "2024-09-06T06:55:47.871630",
     "exception": false,
     "start_time": "2024-09-06T06:55:47.841837",
     "status": "completed"
    },
    "tags": []
   },
   "outputs": [],
   "source": [
    "# Splitting the data\n",
    "X_train, X_test, y_train, y_test = train_test_split(X, y, test_size=0.2, random_state=42)"
   ]
  },
  {
   "cell_type": "code",
   "execution_count": 13,
   "id": "48337ab2",
   "metadata": {
    "execution": {
     "iopub.execute_input": "2024-09-06T06:55:47.888982Z",
     "iopub.status.busy": "2024-09-06T06:55:47.887957Z",
     "iopub.status.idle": "2024-09-06T06:57:31.023802Z",
     "shell.execute_reply": "2024-09-06T06:57:31.021977Z"
    },
    "papermill": {
     "duration": 103.150198,
     "end_time": "2024-09-06T06:57:31.029189",
     "exception": false,
     "start_time": "2024-09-06T06:55:47.878991",
     "status": "completed"
    },
    "tags": []
   },
   "outputs": [
    {
     "name": "stdout",
     "output_type": "stream",
     "text": [
      "[LightGBM] [Info] Auto-choosing row-wise multi-threading, the overhead of testing was 0.005137 seconds.\n",
      "You can set `force_row_wise=true` to remove the overhead.\n",
      "And if memory is not enough, you can set `force_col_wise=true`.\n",
      "[LightGBM] [Info] Total Bins 3095\n",
      "[LightGBM] [Info] Number of data points in the train set: 1168, number of used features: 68\n",
      "[LightGBM] [Info] Start training from score 12.030658\n",
      "Root Mean Squared Error of Stacked Model: 0.13697688923495255\n"
     ]
    }
   ],
   "source": [
    "# Base models\n",
    "xgb_model = xgb.XGBRegressor(n_estimators=3200, random_state=42)\n",
    "rf_model = RandomForestRegressor(n_estimators=2000, random_state=42)\n",
    "lgb_model = lgb.LGBMRegressor(n_estimators=3200, random_state=42)\n",
    "gboost_model = GradientBoostingRegressor(n_estimators=3300, random_state =42)\n",
    "adaboost_model = AdaBoostRegressor(n_estimators=3200, random_state =42)\n",
    "\n",
    "# Train base models\n",
    "xgb_model.fit(X_train, y_train)\n",
    "rf_model.fit(X_train, y_train)\n",
    "lgb_model.fit(X_train, y_train)\n",
    "gboost_model.fit(X_train, y_train)\n",
    "adaboost_model.fit(X_train, y_train)\n",
    "\n",
    "# Generate predictions from the base models\n",
    "xgb_pred_train = xgb_model.predict(X_train)\n",
    "rf_pred_train = rf_model.predict(X_train)\n",
    "lgb_pred_train = lgb_model.predict(X_train)\n",
    "gboost_pred_train = gboost_model.predict(X_train)\n",
    "adaboost_pred_train = adaboost_model.predict(X_train)\n",
    "\n",
    "xgb_pred_test = xgb_model.predict(X_test)\n",
    "rf_pred_test = rf_model.predict(X_test)\n",
    "lgb_pred_test = lgb_model.predict(X_test)\n",
    "gboost_pred_test = gboost_model.predict(X_test)\n",
    "adaboost_pred_test = adaboost_model.predict(X_test)\n",
    "\n",
    "# Create a new dataset from the predictions of the base models\n",
    "train_stack = np.column_stack((xgb_pred_train, rf_pred_train, lgb_pred_train, gboost_pred_train, adaboost_pred_train))\n",
    "test_stack = np.column_stack((xgb_pred_test, rf_pred_test, lgb_pred_test, gboost_pred_test, adaboost_pred_test))\n",
    "\n",
    "# Meta-model (Stacking model)\n",
    "meta_model = Ridge()\n",
    "\n",
    "# Train the meta-model on base model predictions\n",
    "meta_model.fit(train_stack, y_train)\n",
    "\n",
    "# Predict using the meta-model\n",
    "final_predictions = meta_model.predict(test_stack)\n",
    "\n",
    "# Evaluate the model\n",
    "mse = mean_squared_error(y_test, final_predictions)\n",
    "print(f\"Root Mean Squared Error of Stacked Model: {np.sqrt(mse)}\")"
   ]
  },
  {
   "cell_type": "code",
   "execution_count": 14,
   "id": "f2824e99",
   "metadata": {
    "execution": {
     "iopub.execute_input": "2024-09-06T06:57:31.047549Z",
     "iopub.status.busy": "2024-09-06T06:57:31.046498Z",
     "iopub.status.idle": "2024-09-06T06:57:33.974498Z",
     "shell.execute_reply": "2024-09-06T06:57:33.972782Z"
    },
    "papermill": {
     "duration": 2.941058,
     "end_time": "2024-09-06T06:57:33.978027",
     "exception": false,
     "start_time": "2024-09-06T06:57:31.036969",
     "status": "completed"
    },
    "tags": []
   },
   "outputs": [
    {
     "name": "stdout",
     "output_type": "stream",
     "text": [
      "Submission file created successfully!\n"
     ]
    }
   ],
   "source": [
    "# Generate predictions from the base models for the test data (without the 'Id' column)\n",
    "test_data = test.drop(columns=['Id'], axis=1)\n",
    "xgb_pred_test = xgb_model.predict(test_data)\n",
    "rf_pred_test = rf_model.predict(test_data)\n",
    "lgb_pred_test = lgb_model.predict(test_data)\n",
    "gboost_pred_test = gboost_model.predict(test_data)\n",
    "adaboost_pred_test = adaboost_model.predict(test_data)\n",
    "\n",
    "# Stack the predictions from the base models\n",
    "test_stack = np.column_stack((xgb_pred_test, rf_pred_test, lgb_pred_test, gboost_pred_test, adaboost_pred_test))\n",
    "\n",
    "# Use the meta-model to predict 'SalePrice' for the test data\n",
    "stacked_predictions = meta_model.predict(test_stack)\n",
    "\n",
    "# Reverse the log transformation (if applied during training)\n",
    "final_predictions = np.exp(stacked_predictions)\n",
    "\n",
    "# Prepare the submission DataFrame\n",
    "submission = pd.DataFrame()\n",
    "submission['Id'] = test['Id']  # Make sure the 'Id' column exists in the test dataset\n",
    "submission['SalePrice'] = final_predictions\n",
    "\n",
    "# Save the submission file\n",
    "submission.to_csv('submission.csv', index=False)\n",
    "\n",
    "print(\"Submission file created successfully!\")"
   ]
  },
  {
   "cell_type": "code",
   "execution_count": null,
   "id": "eb86de4c",
   "metadata": {
    "papermill": {
     "duration": 0.007806,
     "end_time": "2024-09-06T06:57:33.993790",
     "exception": false,
     "start_time": "2024-09-06T06:57:33.985984",
     "status": "completed"
    },
    "tags": []
   },
   "outputs": [],
   "source": []
  }
 ],
 "metadata": {
  "kaggle": {
   "accelerator": "none",
   "dataSources": [
    {
     "databundleVersionId": 868283,
     "sourceId": 5407,
     "sourceType": "competition"
    }
   ],
   "dockerImageVersionId": 30761,
   "isGpuEnabled": false,
   "isInternetEnabled": true,
   "language": "python",
   "sourceType": "notebook"
  },
  "kernelspec": {
   "display_name": "Python 3",
   "language": "python",
   "name": "python3"
  },
  "language_info": {
   "codemirror_mode": {
    "name": "ipython",
    "version": 3
   },
   "file_extension": ".py",
   "mimetype": "text/x-python",
   "name": "python",
   "nbconvert_exporter": "python",
   "pygments_lexer": "ipython3",
   "version": "3.10.14"
  },
  "papermill": {
   "default_parameters": {},
   "duration": 115.617287,
   "end_time": "2024-09-06T06:57:35.232180",
   "environment_variables": {},
   "exception": null,
   "input_path": "__notebook__.ipynb",
   "output_path": "__notebook__.ipynb",
   "parameters": {},
   "start_time": "2024-09-06T06:55:39.614893",
   "version": "2.4.0"
  }
 },
 "nbformat": 4,
 "nbformat_minor": 5
}
