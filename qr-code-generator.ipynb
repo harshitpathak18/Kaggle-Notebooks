{
 "cells": [
  {
   "cell_type": "code",
   "execution_count": 1,
   "id": "423ac9c0",
   "metadata": {
    "_cell_guid": "b1076dfc-b9ad-4769-8c92-a6c4dae69d19",
    "_uuid": "8f2839f25d086af736a60e9eeb907d3b93b6e0e5",
    "execution": {
     "iopub.execute_input": "2024-09-10T07:59:46.470025Z",
     "iopub.status.busy": "2024-09-10T07:59:46.469556Z",
     "iopub.status.idle": "2024-09-10T08:00:01.830390Z",
     "shell.execute_reply": "2024-09-10T08:00:01.828938Z"
    },
    "papermill": {
     "duration": 15.368197,
     "end_time": "2024-09-10T08:00:01.833387",
     "exception": false,
     "start_time": "2024-09-10T07:59:46.465190",
     "status": "completed"
    },
    "tags": []
   },
   "outputs": [
    {
     "name": "stdout",
     "output_type": "stream",
     "text": [
      "Collecting qrcode[pil]\r\n",
      "  Downloading qrcode-7.4.2-py3-none-any.whl.metadata (17 kB)\r\n",
      "Requirement already satisfied: typing-extensions in /opt/conda/lib/python3.10/site-packages (from qrcode[pil]) (4.12.2)\r\n",
      "Collecting pypng (from qrcode[pil])\r\n",
      "  Downloading pypng-0.20220715.0-py3-none-any.whl.metadata (13 kB)\r\n",
      "Requirement already satisfied: pillow>=9.1.0 in /opt/conda/lib/python3.10/site-packages (from qrcode[pil]) (9.5.0)\r\n",
      "Downloading pypng-0.20220715.0-py3-none-any.whl (58 kB)\r\n",
      "\u001b[2K   \u001b[90m━━━━━━━━━━━━━━━━━━━━━━━━━━━━━━━━━━━━━━━━\u001b[0m \u001b[32m58.1/58.1 kB\u001b[0m \u001b[31m2.3 MB/s\u001b[0m eta \u001b[36m0:00:00\u001b[0m\r\n",
      "\u001b[?25hDownloading qrcode-7.4.2-py3-none-any.whl (46 kB)\r\n",
      "\u001b[2K   \u001b[90m━━━━━━━━━━━━━━━━━━━━━━━━━━━━━━━━━━━━━━━━\u001b[0m \u001b[32m46.2/46.2 kB\u001b[0m \u001b[31m1.8 MB/s\u001b[0m eta \u001b[36m0:00:00\u001b[0m\r\n",
      "\u001b[?25hInstalling collected packages: pypng, qrcode\r\n",
      "Successfully installed pypng-0.20220715.0 qrcode-7.4.2\r\n"
     ]
    }
   ],
   "source": [
    "# installing qrcode\n",
    "! pip install qrcode[pil]"
   ]
  },
  {
   "cell_type": "code",
   "execution_count": 2,
   "id": "af13cc78",
   "metadata": {
    "execution": {
     "iopub.execute_input": "2024-09-10T08:00:01.840850Z",
     "iopub.status.busy": "2024-09-10T08:00:01.840429Z",
     "iopub.status.idle": "2024-09-10T08:00:01.985989Z",
     "shell.execute_reply": "2024-09-10T08:00:01.984771Z"
    },
    "papermill": {
     "duration": 0.152962,
     "end_time": "2024-09-10T08:00:01.989312",
     "exception": false,
     "start_time": "2024-09-10T08:00:01.836350",
     "status": "completed"
    },
    "tags": []
   },
   "outputs": [
    {
     "data": {
      "image/png": "[encoded data removed]",
      "text/plain": [
       "<Figure size 300x300 with 1 Axes>"
      ]
     },
     "metadata": {},
     "output_type": "display_data"
    }
   ],
   "source": [
    "# importing libraries\n",
    "import qrcode\n",
    "import numpy as np\n",
    "from PIL import Image\n",
    "import matplotlib.pyplot as plt\n",
    "\n",
    "# Function to generate a QR code\n",
    "def generate_qr_code(data):\n",
    "    qr = qrcode.QRCode(\n",
    "        version=1,  \n",
    "        error_correction=qrcode.constants.ERROR_CORRECT_L,  \n",
    "        box_size=5,  \n",
    "        border=1,  \n",
    "    )\n",
    "\n",
    "    # Add & fit the data into the QR code\n",
    "    qr.add_data(data)\n",
    "    qr.make(fit=True)  \n",
    "\n",
    "    # Create an image from the QR code\n",
    "    img = qr.make_image()\n",
    "\n",
    "    # Convert the PIL image to a numpy array \n",
    "    img_array = np.array(img)\n",
    "    \n",
    "    # Display the QR code \n",
    "    plt.figure(figsize=(3,3))\n",
    "    plt.imshow(img_array, cmap='gray')\n",
    "    plt.axis('off') \n",
    "    plt.show()\n",
    "    \n",
    "    \n",
    "if __name__==\"__main__\":\n",
    "    generate_qr_code(\"https://www.kaggle.com/\")"
   ]
  },
  {
   "cell_type": "code",
   "execution_count": null,
   "id": "8152164e",
   "metadata": {
    "papermill": {
     "duration": 0.004941,
     "end_time": "2024-09-10T08:00:01.998689",
     "exception": false,
     "start_time": "2024-09-10T08:00:01.993748",
     "status": "completed"
    },
    "tags": []
   },
   "outputs": [],
   "source": []
  }
 ],
 "metadata": {
  "kaggle": {
   "accelerator": "none",
   "dataSources": [],
   "dockerImageVersionId": 30761,
   "isGpuEnabled": false,
   "isInternetEnabled": true,
   "language": "python",
   "sourceType": "notebook"
  },
  "kernelspec": {
   "display_name": "Python 3",
   "language": "python",
   "name": "python3"
  },
  "language_info": {
   "codemirror_mode": {
    "name": "ipython",
    "version": 3
   },
   "file_extension": ".py",
   "mimetype": "text/x-python",
   "name": "python",
   "nbconvert_exporter": "python",
   "pygments_lexer": "ipython3",
   "version": "3.10.14"
  },
  "papermill": {
   "default_parameters": {},
   "duration": 18.804264,
   "end_time": "2024-09-10T08:00:02.426505",
   "environment_variables": {},
   "exception": null,
   "input_path": "__notebook__.ipynb",
   "output_path": "__notebook__.ipynb",
   "parameters": {},
   "start_time": "2024-09-10T07:59:43.622241",
   "version": "2.6.0"
  }
 },
 "nbformat": 4,
 "nbformat_minor": 5
}
